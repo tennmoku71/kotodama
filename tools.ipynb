{
 "cells": [
  {
   "cell_type": "code",
   "execution_count": 1,
   "metadata": {},
   "outputs": [],
   "source": [
    "# # 動詞を抽出\n",
    "# output = open(\"result.txt\", mode='w')\n",
    "\n",
    "# counter = 0\n",
    "# with open(\"voc_list_kiso_kansei.csv\",encoding='cp932', mode='r') as f:\n",
    "#     for s_line in f:\n",
    "#         linedata = s_line.split(\",\")\n",
    "#         if \"動詞\" in linedata[4]:\n",
    "#             verb = linedata[2].replace(\"\\\"\", \"\")\n",
    "#             if \"名詞\" in  linedata[4]:\n",
    "#                 verb += \"する\"\n",
    "#             output.write(verb+\"\\n\")\n",
    "# output.close()"
   ]
  },
  {
   "cell_type": "code",
   "execution_count": 1,
   "metadata": {},
   "outputs": [],
   "source": [
    "# # 手動で添削して、ダブリがないかどうか見てみる\n",
    "# with open(\"result.txt\",encoding='utf-8', mode='r') as f:\n",
    "#     lines = f.readlines()\n",
    "#     for i in range(len(lines)):\n",
    "#         for j in range(i):\n",
    "#             if j < i and lines[i] == lines[j]:\n",
    "#                 print(str(i)+\" \"+str(j))\n",
    "#                 break"
   ]
  },
  {
   "cell_type": "code",
   "execution_count": 2,
   "metadata": {},
   "outputs": [],
   "source": [
    "# # jumanにかけて、活用形を抽出する\n",
    "# import pyknp\n",
    "# juman = pyknp.Juman()\n",
    "\n",
    "# output = open(\"kotodama_dic.csv\",encoding=\"utf-8\",mode=\"w\")\n",
    "# with open(\"result.txt\",encoding='utf-8', mode='r') as f:\n",
    "#     for original_verb in f:\n",
    "#         original_verb = original_verb.strip()\n",
    "#         output_line = \"\"\n",
    "#         mrphs = juman.analysis(original_verb).mrph_list()\n",
    "#         mrph = mrphs[-1]\n",
    "#         output_line_list = [original_verb,mrph.genkei,mrph.hinsi,mrph.katuyou1]\n",
    "#         output.write(\",\".join(output_line_list)+\"\\n\")\n",
    "    \n",
    "# output.close()"
   ]
  },
  {
   "cell_type": "code",
   "execution_count": 3,
   "metadata": {},
   "outputs": [],
   "source": [
    "# # プログラム変更前の段階でテスト\n",
    "# from kotodama import kotodama\n",
    "# from pyknp import Juman\n",
    "# juman = Juman()\n",
    "# kotodama.transformVerb(juman.analysis(\"する\"),[\"過去\"])"
   ]
  },
  {
   "cell_type": "code",
   "execution_count": 4,
   "metadata": {},
   "outputs": [],
   "source": [
    "# # KNPに依存しない形に変更\n",
    "# from kotodama import kotodama_no_juman\n",
    "# kotodama_no_juman.transformVerb(\"する\",[\"過去\"])"
   ]
  },
  {
   "cell_type": "code",
   "execution_count": 5,
   "metadata": {},
   "outputs": [],
   "source": [
    "# # 一個ずつでテスト\n",
    "\n",
    "# from kotodama import kotodama_no_juman\n",
    "# format_all_list = [\"可能\",\"受け身\",\"使役\",\"過去\",\"否定\",\"推定\",\"様態\",\"伝聞\",\"例示\",\"勧誘\",\"自分の希望\",\"他人の希望\",\"て\",\"です・ます\"]\n",
    "\n",
    "# f = open(\"result.txt\",encoding=\"utf-8\",mode=\"r\")\n",
    "# target_verb_hist = []\n",
    "# for verb in f:\n",
    "#     verb = verb.strip()\n",
    "#     target_verb = kotodama_no_juman.kotodama_dic[verb][0]\n",
    "    \n",
    "#     if not target_verb in target_verb_hist:    \n",
    "#         katuyou1 = kotodama_no_juman.kotodama_dic[verb][2]\n",
    "#         print(katuyou1)\n",
    "#         for format_element in format_all_list:\n",
    "#             print(target_verb+\"\\t\"+format_element+\"\\t\"+kotodama_no_juman.transformVerb(verb,{format_element}))\n",
    "#         target_verb_hist.append(target_verb)"
   ]
  },
  {
   "cell_type": "code",
   "execution_count": null,
   "metadata": {},
   "outputs": [],
   "source": []
  }
 ],
 "metadata": {
  "kernelspec": {
   "display_name": "Python 3",
   "language": "python",
   "name": "python3"
  },
  "language_info": {
   "codemirror_mode": {
    "name": "ipython",
    "version": 3
   },
   "file_extension": ".py",
   "mimetype": "text/x-python",
   "name": "python",
   "nbconvert_exporter": "python",
   "pygments_lexer": "ipython3",
   "version": "3.6.7"
  }
 },
 "nbformat": 4,
 "nbformat_minor": 2
}
