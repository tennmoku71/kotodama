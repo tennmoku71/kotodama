{
 "cells": [
  {
   "cell_type": "code",
   "execution_count": 13,
   "metadata": {},
   "outputs": [],
   "source": [
    "# # 動詞を抽出\n",
    "# output = open(\"result.txt\", mode='w')\n",
    "\n",
    "# counter = 0\n",
    "# with open(\"voc_list_kiso_kansei.csv\",encoding='cp932', mode='r') as f:\n",
    "#     for s_line in f:\n",
    "#         linedata = s_line.split(\",\")\n",
    "#         if \"動詞\" in linedata[4]:\n",
    "#             verb = linedata[2].replace(\"\\\"\", \"\")\n",
    "#             if \"名詞\" in  linedata[4]:\n",
    "#                 verb += \"する\"\n",
    "#             output.write(verb+\"\\n\")\n",
    "# output.close()"
   ]
  },
  {
   "cell_type": "code",
   "execution_count": 33,
   "metadata": {},
   "outputs": [],
   "source": [
    "# # 手動で添削して、ダブリがないかどうか見てみる\n",
    "# with open(\"result.txt\",encoding='utf-8', mode='r') as f:\n",
    "#     lines = f.readlines()\n",
    "#     for i in range(len(lines)):\n",
    "#         for j in range(i):\n",
    "#             if j < i and lines[i] == lines[j]:\n",
    "#                 print(str(i)+\" \"+str(j))\n",
    "#                 break"
   ]
  },
  {
   "cell_type": "code",
   "execution_count": 34,
   "metadata": {},
   "outputs": [],
   "source": [
    "# # jumanにかけて、活用形を抽出する\n",
    "# import pyknp\n",
    "# juman = pyknp.Juman()\n",
    "\n",
    "# output = open(\"kotodama_dic.csv\",encoding=\"utf-8\",mode=\"w\")\n",
    "# with open(\"result.txt\",encoding='utf-8', mode='r') as f:\n",
    "#     for original_verb in f:\n",
    "#         original_verb = original_verb.strip()\n",
    "#         output_line = \"\"\n",
    "#         mrphs = juman.analysis(original_verb).mrph_list()\n",
    "#         mrph = mrphs[-1]\n",
    "#         output_line_list = [original_verb,mrph.genkei,mrph.hinsi,mrph.katuyou1]\n",
    "#         output.write(\",\".join(output_line_list)+\"\\n\")\n",
    "    \n",
    "# output.close()"
   ]
  },
  {
   "cell_type": "code",
   "execution_count": 1,
   "metadata": {},
   "outputs": [],
   "source": [
    "# # プログラム変更前の段階でテスト\n",
    "# from kotodama import kotodama\n",
    "# from pyknp import Juman\n",
    "# juman = Juman()\n",
    "# kotodama.transformVerb(juman.analysis(\"する\"),[\"過去\"])"
   ]
  },
  {
   "cell_type": "code",
   "execution_count": 2,
   "metadata": {},
   "outputs": [
    {
     "ename": "NameError",
     "evalue": "name 'kotodama' is not defined",
     "output_type": "error",
     "traceback": [
      "\u001b[0;31m---------------------------------------------------------------------------\u001b[0m",
      "\u001b[0;31mNameError\u001b[0m                                 Traceback (most recent call last)",
      "\u001b[0;32m<ipython-input-2-2d06d153ba6f>\u001b[0m in \u001b[0;36m<module>\u001b[0;34m\u001b[0m\n\u001b[1;32m      1\u001b[0m \u001b[0;31m# プログラム変更前の段階でテスト\u001b[0m\u001b[0;34m\u001b[0m\u001b[0;34m\u001b[0m\u001b[0;34m\u001b[0m\u001b[0m\n\u001b[1;32m      2\u001b[0m \u001b[0;32mfrom\u001b[0m \u001b[0mkotodama\u001b[0m \u001b[0;32mimport\u001b[0m \u001b[0mkotodama_no_juman\u001b[0m\u001b[0;34m\u001b[0m\u001b[0;34m\u001b[0m\u001b[0m\n\u001b[0;32m----> 3\u001b[0;31m \u001b[0mkotodama\u001b[0m\u001b[0;34m.\u001b[0m\u001b[0mtransformVerb\u001b[0m\u001b[0;34m(\u001b[0m\u001b[0;34m\"する\"\u001b[0m\u001b[0;34m,\u001b[0m\u001b[0;34m[\u001b[0m\u001b[0;34m\"過去\"\u001b[0m\u001b[0;34m]\u001b[0m\u001b[0;34m)\u001b[0m\u001b[0;34m\u001b[0m\u001b[0;34m\u001b[0m\u001b[0m\n\u001b[0m",
      "\u001b[0;31mNameError\u001b[0m: name 'kotodama' is not defined"
     ]
    }
   ],
   "source": [
    "# プログラム変更前の段階でテスト\n",
    "from kotodama import kotodama_no_juman\n",
    "kotodama_no_juman.transformVerb(\"する\",[\"過去\"])"
   ]
  },
  {
   "cell_type": "code",
   "execution_count": null,
   "metadata": {},
   "outputs": [],
   "source": []
  }
 ],
 "metadata": {
  "kernelspec": {
   "display_name": "Python 3",
   "language": "python",
   "name": "python3"
  },
  "language_info": {
   "codemirror_mode": {
    "name": "ipython",
    "version": 3
   },
   "file_extension": ".py",
   "mimetype": "text/x-python",
   "name": "python",
   "nbconvert_exporter": "python",
   "pygments_lexer": "ipython3",
   "version": "3.6.7"
  }
 },
 "nbformat": 4,
 "nbformat_minor": 2
}
