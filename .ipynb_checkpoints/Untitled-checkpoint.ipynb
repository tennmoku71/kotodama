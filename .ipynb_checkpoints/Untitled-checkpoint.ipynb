{
 "cells": [
  {
   "cell_type": "code",
   "execution_count": 1,
   "metadata": {},
   "outputs": [],
   "source": [
    "# # 動詞を抽出\n",
    "# output = open(\"result.txt\", mode='w')\n",
    "\n",
    "# counter = 0\n",
    "# with open(\"voc_list_kiso_kansei.csv\",encoding='cp932', mode='r') as f:\n",
    "#     for s_line in f:\n",
    "#         linedata = s_line.split(\",\")\n",
    "#         if \"動詞\" in linedata[4]:\n",
    "#             verb = linedata[2].replace(\"\\\"\", \"\")\n",
    "#             if \"名詞\" in  linedata[4]:\n",
    "#                 verb += \"する\"\n",
    "#             output.write(verb+\"\\n\")\n",
    "# output.close()"
   ]
  },
  {
   "cell_type": "code",
   "execution_count": 6,
   "metadata": {},
   "outputs": [],
   "source": [
    "# # 手動で添削して、ダブリがないかどうか見てみる\n",
    "# with open(\"result.txt\",encoding='utf-8', mode='r') as f:\n",
    "#     lines = f.readlines()\n",
    "#     for i in range(len(lines)):\n",
    "#         for j in range(i):\n",
    "#             if j < i and lines[i] == lines[j]:\n",
    "#                 print(str(i)+\" \"+str(j))\n",
    "#                 break"
   ]
  },
  {
   "cell_type": "code",
   "execution_count": 2,
   "metadata": {},
   "outputs": [],
   "source": [
    "# jumanにかけて、活用形を抽出する\n",
    "import pyknp\n",
    "juman = pyknp.Juman()\n",
    "\n",
    "output = open(\"kotodama_dic.csv\",encoding=\"utf-8\",mode=\"w\")\n",
    "with open(\"result.txt\",encoding='utf-8', mode='r') as f:\n",
    "    for original_verb in f:\n",
    "        original_verb = original_verb.strip()\n",
    "        output_line = \"\"\n",
    "        mrphs = juman.analysis(original_verb).mrph_list()\n",
    "        mrph = mrphs[-1]\n",
    "        output_line_list = [original_verb,mrph.genkei,mrph.hinsi,mrph.katuyou1]\n",
    "        output.write(\",\".join(output_line_list)+\"\\n\")\n",
    "    \n",
    "output.close()"
   ]
  },
  {
   "cell_type": "code",
   "execution_count": 4,
   "metadata": {},
   "outputs": [],
   "source": [
    "# # プログラム変更前の段階でテスト\n",
    "# from kotodama import kotodama\n",
    "# from pyknp import Juman\n",
    "# juman = Juman()\n",
    "# kotodama.transformVerb(juman.analysis(\"する\"),[\"過去\"])"
   ]
  },
  {
   "cell_type": "code",
   "execution_count": 8,
   "metadata": {},
   "outputs": [
    {
     "data": {
      "text/plain": [
       "'した'"
      ]
     },
     "execution_count": 8,
     "metadata": {},
     "output_type": "execute_result"
    }
   ],
   "source": [
    "# # KNPに依存しない形に変更\n",
    "# from kotodama import kotodama_no_juman\n",
    "# kotodama_no_juman.transformVerb(\"する\",[\"過去\"])"
   ]
  },
  {
   "cell_type": "code",
   "execution_count": 1,
   "metadata": {},
   "outputs": [
    {
     "ename": "FileNotFoundError",
     "evalue": "[Errno 2] No such file or directory: 'kotodama/kotodama_dic.csv'",
     "output_type": "error",
     "traceback": [
      "\u001b[0;31m---------------------------------------------------------------------------\u001b[0m",
      "\u001b[0;31mFileNotFoundError\u001b[0m                         Traceback (most recent call last)",
      "\u001b[0;32m<ipython-input-1-5276b5003fb5>\u001b[0m in \u001b[0;36m<module>\u001b[0;34m\u001b[0m\n\u001b[0;32m----> 1\u001b[0;31m \u001b[0;32mfrom\u001b[0m \u001b[0mkotodama\u001b[0m \u001b[0;32mimport\u001b[0m \u001b[0mkotodama_no_juman\u001b[0m\u001b[0;34m\u001b[0m\u001b[0;34m\u001b[0m\u001b[0m\n\u001b[0m\u001b[1;32m      2\u001b[0m \u001b[0;34m\u001b[0m\u001b[0m\n\u001b[1;32m      3\u001b[0m \u001b[0;31m#format_all_list = [\"可能\",\"受け身\",\"使役\",\"過去\",\"断定\",\"否定\",\"推定\",\"様態\",\"伝聞\",\"例示\",\"勧誘\",\"打ち消し\",\"自分の希望\",\"他人の希望\",\"前提確認\",\"て\",\"です・ます\",\"終止\",\"仮定\",\"ください\"]\u001b[0m\u001b[0;34m\u001b[0m\u001b[0;34m\u001b[0m\u001b[0;34m\u001b[0m\u001b[0m\n\u001b[1;32m      4\u001b[0m \u001b[0mformat_all_list\u001b[0m \u001b[0;34m=\u001b[0m \u001b[0;34m[\u001b[0m\u001b[0;34m\"可能\"\u001b[0m\u001b[0;34m,\u001b[0m\u001b[0;34m\"受け身\"\u001b[0m\u001b[0;34m,\u001b[0m\u001b[0;34m\"使役\"\u001b[0m\u001b[0;34m,\u001b[0m\u001b[0;34m\"過去\"\u001b[0m\u001b[0;34m,\u001b[0m\u001b[0;34m\"否定\"\u001b[0m\u001b[0;34m,\u001b[0m\u001b[0;34m\"推定\"\u001b[0m\u001b[0;34m,\u001b[0m\u001b[0;34m\"様態\"\u001b[0m\u001b[0;34m,\u001b[0m\u001b[0;34m\"伝聞\"\u001b[0m\u001b[0;34m,\u001b[0m\u001b[0;34m\"例示\"\u001b[0m\u001b[0;34m,\u001b[0m\u001b[0;34m\"勧誘\"\u001b[0m\u001b[0;34m,\u001b[0m\u001b[0;34m\"自分の希望\"\u001b[0m\u001b[0;34m,\u001b[0m\u001b[0;34m\"他人の希望\"\u001b[0m\u001b[0;34m,\u001b[0m\u001b[0;34m\"て\"\u001b[0m\u001b[0;34m,\u001b[0m\u001b[0;34m\"です・ます\"\u001b[0m\u001b[0;34m]\u001b[0m\u001b[0;34m\u001b[0m\u001b[0;34m\u001b[0m\u001b[0m\n\u001b[1;32m      5\u001b[0m \u001b[0;34m\u001b[0m\u001b[0m\n",
      "\u001b[0;32m~/kotodama/kotodama/kotodama_no_juman.py\u001b[0m in \u001b[0;36m<module>\u001b[0;34m\u001b[0m\n\u001b[1;32m      2\u001b[0m \u001b[0;34m\u001b[0m\u001b[0m\n\u001b[1;32m      3\u001b[0m \u001b[0mkotodama_dic\u001b[0m \u001b[0;34m=\u001b[0m \u001b[0;34m{\u001b[0m\u001b[0;34m}\u001b[0m\u001b[0;34m\u001b[0m\u001b[0;34m\u001b[0m\u001b[0m\n\u001b[0;32m----> 4\u001b[0;31m \u001b[0mfile\u001b[0m \u001b[0;34m=\u001b[0m \u001b[0mopen\u001b[0m\u001b[0;34m(\u001b[0m\u001b[0;34m\"kotodama/kotodama_dic.csv\"\u001b[0m\u001b[0;34m,\u001b[0m\u001b[0mencoding\u001b[0m\u001b[0;34m=\u001b[0m\u001b[0;34m\"utf-8\"\u001b[0m\u001b[0;34m,\u001b[0m\u001b[0mmode\u001b[0m \u001b[0;34m=\u001b[0m \u001b[0;34m\"r\"\u001b[0m\u001b[0;34m)\u001b[0m\u001b[0;34m\u001b[0m\u001b[0;34m\u001b[0m\u001b[0m\n\u001b[0m\u001b[1;32m      5\u001b[0m \u001b[0;32mfor\u001b[0m \u001b[0mele\u001b[0m \u001b[0;32min\u001b[0m \u001b[0mfile\u001b[0m\u001b[0;34m:\u001b[0m\u001b[0;34m\u001b[0m\u001b[0;34m\u001b[0m\u001b[0m\n\u001b[1;32m      6\u001b[0m     \u001b[0mele_list\u001b[0m \u001b[0;34m=\u001b[0m \u001b[0mele\u001b[0m\u001b[0;34m.\u001b[0m\u001b[0mstrip\u001b[0m\u001b[0;34m(\u001b[0m\u001b[0;34m)\u001b[0m\u001b[0;34m.\u001b[0m\u001b[0msplit\u001b[0m\u001b[0;34m(\u001b[0m\u001b[0;34m\",\"\u001b[0m\u001b[0;34m)\u001b[0m\u001b[0;34m\u001b[0m\u001b[0;34m\u001b[0m\u001b[0m\n",
      "\u001b[0;31mFileNotFoundError\u001b[0m: [Errno 2] No such file or directory: 'kotodama/kotodama_dic.csv'"
     ]
    }
   ],
   "source": [
    "from kotodama import kotodama_no_juman\n",
    "\n",
    "#format_all_list = [\"可能\",\"受け身\",\"使役\",\"過去\",\"断定\",\"否定\",\"推定\",\"様態\",\"伝聞\",\"例示\",\"勧誘\",\"打ち消し\",\"自分の希望\",\"他人の希望\",\"前提確認\",\"て\",\"です・ます\",\"終止\",\"仮定\",\"ください\"]\n",
    "format_all_list = [\"可能\",\"受け身\",\"使役\",\"過去\",\"否定\",\"推定\",\"様態\",\"伝聞\",\"例示\",\"勧誘\",\"自分の希望\",\"他人の希望\",\"て\",\"です・ます\"]\n",
    "\n",
    "f = open(\"result.txt\",encoding=\"utf-8\",mode=\"r\")\n",
    "for verb in f:\n",
    "    verb = verb.strip()\n",
    "    for format_element in format_all_list:\n",
    "        print(kotodama_no_juman.transformVerb(verb,{format_element}))"
   ]
  },
  {
   "cell_type": "code",
   "execution_count": null,
   "metadata": {},
   "outputs": [],
   "source": []
  }
 ],
 "metadata": {
  "kernelspec": {
   "display_name": "Python 3",
   "language": "python",
   "name": "python3"
  },
  "language_info": {
   "codemirror_mode": {
    "name": "ipython",
    "version": 3
   },
   "file_extension": ".py",
   "mimetype": "text/x-python",
   "name": "python",
   "nbconvert_exporter": "python",
   "pygments_lexer": "ipython3",
   "version": "3.6.7"
  }
 },
 "nbformat": 4,
 "nbformat_minor": 2
}
